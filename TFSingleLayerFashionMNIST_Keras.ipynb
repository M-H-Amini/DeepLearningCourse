{
  "nbformat": 4,
  "nbformat_minor": 0,
  "metadata": {
    "colab": {
      "name": "TFSingleLayerFashionMNIST-Keras.ipynb",
      "version": "0.3.2",
      "provenance": [],
      "collapsed_sections": [],
      "include_colab_link": true
    },
    "kernelspec": {
      "name": "python3",
      "display_name": "Python 3"
    }
  },
  "cells": [
    {
      "cell_type": "markdown",
      "metadata": {
        "id": "view-in-github",
        "colab_type": "text"
      },
      "source": [
        "<a href=\"https://colab.research.google.com/github/M-H-Amini/DeepLearningCourse/blob/master/TFSingleLayerFashionMNIST_Keras.ipynb\" target=\"_parent\"><img src=\"https://colab.research.google.com/assets/colab-badge.svg\" alt=\"Open In Colab\"/></a>"
      ]
    },
    {
      "cell_type": "markdown",
      "metadata": {
        "id": "WqDNC4UxKOt1",
        "colab_type": "text"
      },
      "source": [
        "# In The Name of ALLAH\n",
        "**Written By Mohammad Hossein Amini (mhamini@aut.ac.ir)**\n",
        "# Single-Layer Network for Fashion MNIST Digits (Keras)\n",
        "In this projects I'm gonna make a single-layer network for classifying Fashion MNIST dataset.\n",
        "\n",
        "\n",
        "First of all, let's import modules..."
      ]
    },
    {
      "cell_type": "code",
      "metadata": {
        "id": "1ESdCHI3KNqb",
        "colab_type": "code",
        "colab": {
          "base_uri": "https://localhost:8080/",
          "height": 51
        },
        "outputId": "bfa38c4a-5df2-46e6-a78b-1072cc8fc69d"
      },
      "source": [
        "try:\n",
        "  %tensorflow_version 2.x\n",
        "except Exception:\n",
        "  pass\n",
        "import tensorflow as tf\n",
        "print(tf.__version__)\n",
        "from tensorflow.keras.models import Sequential\n",
        "from tensorflow.keras.layers import Dense, Activation, Dropout, Flatten, InputLayer\n",
        "from tensorflow.keras.utils import to_categorical\n",
        "import numpy as np\n",
        "import matplotlib.pyplot as plt"
      ],
      "execution_count": 1,
      "outputs": [
        {
          "output_type": "stream",
          "text": [
            "TensorFlow 2.x selected.\n",
            "2.0.0-rc0\n"
          ],
          "name": "stdout"
        }
      ]
    },
    {
      "cell_type": "markdown",
      "metadata": {
        "id": "Zb0c4EwdLeLz",
        "colab_type": "text"
      },
      "source": [
        "# Loading Dataset\n",
        "Let's load MNIST. This time I do it differently from the last project (From Scratch one)."
      ]
    },
    {
      "cell_type": "code",
      "metadata": {
        "id": "5XKbL-UMLvhD",
        "colab_type": "code",
        "colab": {
          "base_uri": "https://localhost:8080/",
          "height": 170
        },
        "outputId": "9f5042a5-39c1-49d2-f23b-44629b86aa00"
      },
      "source": [
        "fashion_mnist = tf.keras.datasets.fashion_mnist\n",
        "(x_train, y_train), (x_test, y_test) = fashion_mnist.load_data()\n",
        "x_train, x_test = x_train / 255.0, x_test / 255.0\n",
        "y_train, y_test = to_categorical(y_train), to_categorical(y_test)\n",
        "\n",
        "label = {0: 'T-Shirt/Top',\n",
        "          1: 'Trouser',\n",
        "          2: 'Pullover',\n",
        "          3: 'Dress',\n",
        "          4: 'Coat',\n",
        "          5: 'Sandals',\n",
        "          6: 'Shirt',\n",
        "          7: 'Sneakers',\n",
        "          8: 'Bag',\n",
        "          9: 'Ankle Boot',\n",
        "         }\n",
        "print(x_train.shape, type(x_train))"
      ],
      "execution_count": 2,
      "outputs": [
        {
          "output_type": "stream",
          "text": [
            "Downloading data from https://storage.googleapis.com/tensorflow/tf-keras-datasets/train-labels-idx1-ubyte.gz\n",
            "32768/29515 [=================================] - 0s 0us/step\n",
            "Downloading data from https://storage.googleapis.com/tensorflow/tf-keras-datasets/train-images-idx3-ubyte.gz\n",
            "26427392/26421880 [==============================] - 0s 0us/step\n",
            "Downloading data from https://storage.googleapis.com/tensorflow/tf-keras-datasets/t10k-labels-idx1-ubyte.gz\n",
            "8192/5148 [===============================================] - 0s 0us/step\n",
            "Downloading data from https://storage.googleapis.com/tensorflow/tf-keras-datasets/t10k-images-idx3-ubyte.gz\n",
            "4423680/4422102 [==============================] - 0s 0us/step\n",
            "(60000, 28, 28) <class 'numpy.ndarray'>\n"
          ],
          "name": "stdout"
        }
      ]
    },
    {
      "cell_type": "markdown",
      "metadata": {
        "id": "ZgnBXUFSQfOp",
        "colab_type": "text"
      },
      "source": [
        "It's a good idea to see one of the elements of MNIST..."
      ]
    },
    {
      "cell_type": "code",
      "metadata": {
        "id": "Kbz3ObygQpGR",
        "colab_type": "code",
        "colab": {
          "base_uri": "https://localhost:8080/",
          "height": 286
        },
        "outputId": "9696009d-d054-44db-ed58-0268c4c5dd30"
      },
      "source": [
        "index = np.random.randint(50000)\n",
        "plt.imshow(x_train[index,:,:])\n",
        "plt.show()\n",
        "print('Label: {}'.format(label[np.argmax(y_train[index])]))"
      ],
      "execution_count": 3,
      "outputs": [
        {
          "output_type": "display_data",
          "data": {
            "image/png": "[encoded data removed]",
            "text/plain": [
              "<Figure size 432x288 with 1 Axes>"
            ]
          },
          "metadata": {
            "tags": []
          }
        },
        {
          "output_type": "stream",
          "text": [
            "Label: Trouser\n"
          ],
          "name": "stdout"
        }
      ]
    },
    {
      "cell_type": "markdown",
      "metadata": {
        "id": "JJ6i8piMRNhx",
        "colab_type": "text"
      },
      "source": [
        "# Creating Model\n",
        "I'm gonna make the model using Keras api..."
      ]
    },
    {
      "cell_type": "code",
      "metadata": {
        "id": "SsSoUP_eRr9-",
        "colab_type": "code",
        "colab": {
          "base_uri": "https://localhost:8080/",
          "height": 238
        },
        "outputId": "556fb6ec-b207-4035-ece4-f581a55e7b0d"
      },
      "source": [
        "model = Sequential()\n",
        "\n",
        "model.add(InputLayer(input_shape=(28, 28)))\n",
        "model.add(Flatten())\n",
        "\n",
        "model.add(Dense(units=10, activation='softmax'))\n",
        "\n",
        "model.compile(loss='categorical_crossentropy', \n",
        "                 optimizer='adam', \n",
        "                 metrics=['accuracy'])\n",
        "print(model.summary())"
      ],
      "execution_count": 4,
      "outputs": [
        {
          "output_type": "stream",
          "text": [
            "Model: \"sequential\"\n",
            "_________________________________________________________________\n",
            "Layer (type)                 Output Shape              Param #   \n",
            "=================================================================\n",
            "flatten (Flatten)            (None, 784)               0         \n",
            "_________________________________________________________________\n",
            "dense (Dense)                (None, 10)                7850      \n",
            "=================================================================\n",
            "Total params: 7,850\n",
            "Trainable params: 7,850\n",
            "Non-trainable params: 0\n",
            "_________________________________________________________________\n",
            "None\n"
          ],
          "name": "stdout"
        }
      ]
    },
    {
      "cell_type": "markdown",
      "metadata": {
        "id": "A96q9tMsSaTG",
        "colab_type": "text"
      },
      "source": [
        "Let's train the model..."
      ]
    },
    {
      "cell_type": "code",
      "metadata": {
        "id": "ERhMjDupSqlD",
        "colab_type": "code",
        "colab": {
          "base_uri": "https://localhost:8080/",
          "height": 391
        },
        "outputId": "d0f98b0a-2c3e-4c81-fb9b-cfeadf861755"
      },
      "source": [
        "epochs = 10 # one epoch takes about 3 seconds\n",
        "print(type(y_train), y_train.shape)\n",
        "history = model.fit(x_train, y_train, \n",
        "                          epochs=epochs, \n",
        "                          batch_size=32,\n",
        "                          verbose=2)"
      ],
      "execution_count": 6,
      "outputs": [
        {
          "output_type": "stream",
          "text": [
            "<class 'numpy.ndarray'> (60000, 10)\n",
            "Train on 60000 samples\n",
            "Epoch 1/10\n",
            "60000/60000 - 3s - loss: 0.4055 - accuracy: 0.8593\n",
            "Epoch 2/10\n",
            "60000/60000 - 3s - loss: 0.4023 - accuracy: 0.8608\n",
            "Epoch 3/10\n",
            "60000/60000 - 3s - loss: 0.3969 - accuracy: 0.8618\n",
            "Epoch 4/10\n",
            "60000/60000 - 3s - loss: 0.3937 - accuracy: 0.8625\n",
            "Epoch 5/10\n",
            "60000/60000 - 3s - loss: 0.3917 - accuracy: 0.8638\n",
            "Epoch 6/10\n",
            "60000/60000 - 3s - loss: 0.3890 - accuracy: 0.8635\n",
            "Epoch 7/10\n",
            "60000/60000 - 3s - loss: 0.3867 - accuracy: 0.8649\n",
            "Epoch 8/10\n",
            "60000/60000 - 3s - loss: 0.3845 - accuracy: 0.8656\n",
            "Epoch 9/10\n",
            "60000/60000 - 3s - loss: 0.3835 - accuracy: 0.8661\n",
            "Epoch 10/10\n",
            "60000/60000 - 3s - loss: 0.3816 - accuracy: 0.8661\n"
          ],
          "name": "stdout"
        }
      ]
    },
    {
      "cell_type": "markdown",
      "metadata": {
        "id": "m_mo9NIhUZTd",
        "colab_type": "text"
      },
      "source": [
        "It's interesting to see the accuracy and the loss through epochs..."
      ]
    },
    {
      "cell_type": "code",
      "metadata": {
        "id": "z-ezv482UjAN",
        "colab_type": "code",
        "colab": {
          "base_uri": "https://localhost:8080/",
          "height": 437
        },
        "outputId": "eab573fa-a061-424b-c314-0a0db6d2619a"
      },
      "source": [
        "plt.figure(figsize=(5,3))\n",
        "plt.plot(history.epoch,history.history['loss'])\n",
        "plt.title('loss')\n",
        "\n",
        "plt.figure(figsize=(5,3))\n",
        "plt.plot(history.epoch,history.history['accuracy'])\n",
        "plt.title('accuracy');"
      ],
      "execution_count": 7,
      "outputs": [
        {
          "output_type": "display_data",
          "data": {
            "image/png": "[encoded data removed]",
            "text/plain": [
              "<Figure size 360x216 with 1 Axes>"
            ]
          },
          "metadata": {
            "tags": []
          }
        },
        {
          "output_type": "display_data",
          "data": {
            "image/png": "[encoded data removed]",
            "text/plain": [
              "<Figure size 360x216 with 1 Axes>"
            ]
          },
          "metadata": {
            "tags": []
          }
        }
      ]
    },
    {
      "cell_type": "markdown",
      "metadata": {
        "id": "_QySfzR3WiRb",
        "colab_type": "text"
      },
      "source": [
        "Let's test the model for some examples..."
      ]
    },
    {
      "cell_type": "code",
      "metadata": {
        "id": "s1gWNvXfWmkj",
        "colab_type": "code",
        "colab": {
          "base_uri": "https://localhost:8080/",
          "height": 3217
        },
        "outputId": "00fedafd-634d-49db-a550-10c09071e379"
      },
      "source": [
        "test_no = 10\n",
        "indexes = [np.random.randint(0, 10000) for i in range(test_no)]\n",
        "for i in range(test_no):\n",
        "  print('Test {} out of {}...'.format(i+1, test_no))\n",
        "  plt.imshow(x_test[indexes[i], :, :])\n",
        "  plt.show()\n",
        "  print('Actual: ', label[np.argmax(y_test[indexes[i]])])\n",
        "  print('Predicted: ', label[np.argmax(model.predict(x_test[indexes[i]: indexes[i]+1, :, :]))], '\\n')"
      ],
      "execution_count": 8,
      "outputs": [
        {
          "output_type": "stream",
          "text": [
            "Test 1 out of 10...\n"
          ],
          "name": "stdout"
        },
        {
          "output_type": "display_data",
          "data": {
            "image/png": "[encoded data removed]",
            "text/plain": [
              "<Figure size 432x288 with 1 Axes>"
            ]
          },
          "metadata": {
            "tags": []
          }
        },
        {
          "output_type": "stream",
          "text": [
            "Actual:  Coat\n",
            "Predicted:  Coat \n",
            "\n",
            "Test 2 out of 10...\n"
          ],
          "name": "stdout"
        },
        {
          "output_type": "display_data",
          "data": {
            "image/png": "[encoded data removed]",
            "text/plain": [
              "<Figure size 432x288 with 1 Axes>"
            ]
          },
          "metadata": {
            "tags": []
          }
        },
        {
          "output_type": "stream",
          "text": [
            "Actual:  Shirt\n",
            "Predicted:  Shirt \n",
            "\n",
            "Test 3 out of 10...\n"
          ],
          "name": "stdout"
        },
        {
          "output_type": "display_data",
          "data": {
            "image/png": "[encoded data removed]",
            "text/plain": [
              "<Figure size 432x288 with 1 Axes>"
            ]
          },
          "metadata": {
            "tags": []
          }
        },
        {
          "output_type": "stream",
          "text": [
            "Actual:  Ankle Boot\n",
            "Predicted:  Ankle Boot \n",
            "\n",
            "Test 4 out of 10...\n"
          ],
          "name": "stdout"
        },
        {
          "output_type": "display_data",
          "data": {
            "image/png": "[encoded data removed]",
            "text/plain": [
              "<Figure size 432x288 with 1 Axes>"
            ]
          },
          "metadata": {
            "tags": []
          }
        },
        {
          "output_type": "stream",
          "text": [
            "Actual:  Coat\n",
            "Predicted:  Coat \n",
            "\n",
            "Test 5 out of 10...\n"
          ],
          "name": "stdout"
        },
        {
          "output_type": "display_data",
          "data": {
            "image/png": "[encoded data removed]",
            "text/plain": [
              "<Figure size 432x288 with 1 Axes>"
            ]
          },
          "metadata": {
            "tags": []
          }
        },
        {
          "output_type": "stream",
          "text": [
            "Actual:  Bag\n",
            "Predicted:  Shirt \n",
            "\n",
            "Test 6 out of 10...\n"
          ],
          "name": "stdout"
        },
        {
          "output_type": "display_data",
          "data": {
            "image/png": "[encoded data removed]",
            "text/plain": [
              "<Figure size 432x288 with 1 Axes>"
            ]
          },
          "metadata": {
            "tags": []
          }
        },
        {
          "output_type": "stream",
          "text": [
            "Actual:  Dress\n",
            "Predicted:  Dress \n",
            "\n",
            "Test 7 out of 10...\n"
          ],
          "name": "stdout"
        },
        {
          "output_type": "display_data",
          "data": {
            "image/png": "[encoded data removed]",
            "text/plain": [
              "<Figure size 432x288 with 1 Axes>"
            ]
          },
          "metadata": {
            "tags": []
          }
        },
        {
          "output_type": "stream",
          "text": [
            "Actual:  Sneakers\n",
            "Predicted:  Sandals \n",
            "\n",
            "Test 8 out of 10...\n"
          ],
          "name": "stdout"
        },
        {
          "output_type": "display_data",
          "data": {
            "image/png": "[encoded data removed]",
            "text/plain": [
              "<Figure size 432x288 with 1 Axes>"
            ]
          },
          "metadata": {
            "tags": []
          }
        },
        {
          "output_type": "stream",
          "text": [
            "Actual:  T-Shirt/Top\n",
            "Predicted:  T-Shirt/Top \n",
            "\n",
            "Test 9 out of 10...\n"
          ],
          "name": "stdout"
        },
        {
          "output_type": "display_data",
          "data": {
            "image/png": "[encoded data removed]",
            "text/plain": [
              "<Figure size 432x288 with 1 Axes>"
            ]
          },
          "metadata": {
            "tags": []
          }
        },
        {
          "output_type": "stream",
          "text": [
            "Actual:  Dress\n",
            "Predicted:  Dress \n",
            "\n",
            "Test 10 out of 10...\n"
          ],
          "name": "stdout"
        },
        {
          "output_type": "display_data",
          "data": {
            "image/png": "[encoded data removed]",
            "text/plain": [
              "<Figure size 432x288 with 1 Axes>"
            ]
          },
          "metadata": {
            "tags": []
          }
        },
        {
          "output_type": "stream",
          "text": [
            "Actual:  Sneakers\n",
            "Predicted:  Sneakers \n",
            "\n"
          ],
          "name": "stdout"
        }
      ]
    },
    {
      "cell_type": "markdown",
      "metadata": {
        "id": "FzpbIG9FU8RA",
        "colab_type": "text"
      },
      "source": [
        "Finally, time for evaluating the trained model..."
      ]
    },
    {
      "cell_type": "code",
      "metadata": {
        "id": "p1i4EOfOVDZZ",
        "colab_type": "code",
        "colab": {
          "base_uri": "https://localhost:8080/",
          "height": 51
        },
        "outputId": "6d5c152d-4714-4c33-c228-5f90c48c3434"
      },
      "source": [
        "linscores = model.evaluate(x_test, y_test, verbose=2)\n",
        "print(\"%s: %.2f%%\" % (model.metrics_names[1], linscores[1]*100))"
      ],
      "execution_count": 9,
      "outputs": [
        {
          "output_type": "stream",
          "text": [
            "10000/1 - 0s - loss: 0.4270 - accuracy: 0.8447\n",
            "accuracy: 84.47%\n"
          ],
          "name": "stdout"
        }
      ]
    }
  ]
}