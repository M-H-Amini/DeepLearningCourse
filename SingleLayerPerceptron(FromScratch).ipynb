{
  "nbformat": 4,
  "nbformat_minor": 0,
  "metadata": {
    "colab": {
      "name": "SingleLayerPerceptron(FromScratch).ipynb",
      "provenance": [],
      "collapsed_sections": [],
      "include_colab_link": true
    },
    "kernelspec": {
      "name": "python3",
      "display_name": "Python 3"
    }
  },
  "cells": [
    {
      "cell_type": "markdown",
      "metadata": {
        "id": "view-in-github",
        "colab_type": "text"
      },
      "source": [
        "<a href=\"https://colab.research.google.com/github/M-H-Amini/DeepLearningCourse/blob/master/SingleLayerPerceptron(FromScratch).ipynb\" target=\"_parent\"><img src=\"https://colab.research.google.com/assets/colab-badge.svg\" alt=\"Open In Colab\"/></a>"
      ]
    },
    {
      "cell_type": "markdown",
      "metadata": {
        "id": "5GBl-_XpVvNg",
        "colab_type": "text"
      },
      "source": [
        "# In The Name Of ALLAH\n",
        "# Single-Layer Perceptrons (From Scratch)\n",
        "**Written By: Mohammad Hossein Amini (mhamini@aut.ac.ir)**\n",
        "\n",
        "I'm gonna code a single-layer perceptron from scratch just using **numpy**.\n",
        "First, let's do the import stuff...\n",
        "\n"
      ]
    },
    {
      "cell_type": "code",
      "metadata": {
        "id": "CJOsxcbrVo6Y",
        "colab_type": "code",
        "colab": {}
      },
      "source": [
        "import numpy as np\n",
        "import matplotlib.pyplot as plt"
      ],
      "execution_count": 0,
      "outputs": []
    },
    {
      "cell_type": "markdown",
      "metadata": {
        "id": "z4clLWa7Xf-N",
        "colab_type": "text"
      },
      "source": [
        "I'm gonna make a class named **SLP** "
      ]
    },
    {
      "cell_type": "code",
      "metadata": {
        "id": "wO3w5ohjXm7j",
        "colab_type": "code",
        "colab": {}
      },
      "source": [
        "class SLP:\n",
        "  def __init__(self, X, y, learning_rate = 1):\n",
        "    self.X = X  #  Each column is a sample\n",
        "    self.y = y  #  y should have 2 dimensions\n",
        "    self.W = np.random.rand(self.y.shape[0], self.X.shape[0])\n",
        "    self.b = np.random.rand(self.y.shape[0], 1)\n",
        "    self.lr = learning_rate\n",
        "    \n",
        "  def hardlim(self, z):\n",
        "    return np.floor((1 + np.sign(z))/2)\n",
        "  \n",
        "  def train(self, iterations = 100, print_details = True):\n",
        "    counter = 0\n",
        "    for i in range(iterations):\n",
        "      if not self.check():\n",
        "        index = np.random.randint(0, self.X.shape[1])\n",
        "        prediction = self.predict(self.X[:, index : index + 1])\n",
        "        actual = self.y[:,index:index + 1]\n",
        "        error = actual - prediction\n",
        "        self.W = self.W + self.lr * error * np.transpose(self.X[:, index:index + 1])\n",
        "        self.b = self.b + self.lr * error\n",
        "        counter += 1\n",
        "      else:\n",
        "        print('Trained in {} steps!'.format(counter))\n",
        "        break\n",
        "      \n",
        "  def predict(self, x):\n",
        "    return self.hardlim(np.dot(self.W, x) + self.b)\n",
        "      \n",
        "  def check(self):\n",
        "    for i in range(self.X.shape[1]):\n",
        "      if not np.array_equal(self.predict(self.X[:, i : i+1]), self.y[:, i : i + 1]):\n",
        "        return False\n",
        "    return True"
      ],
      "execution_count": 0,
      "outputs": []
    },
    {
      "cell_type": "markdown",
      "metadata": {
        "id": "KxZRdGmzIE3q",
        "colab_type": "text"
      },
      "source": [
        "Now, I'm gonna test my class as an \"AND\" and \"OR\" gate! Let's see..."
      ]
    },
    {
      "cell_type": "code",
      "metadata": {
        "id": "_HGrey-kaG8E",
        "colab_type": "code",
        "colab": {
          "base_uri": "https://localhost:8080/",
          "height": 782
        },
        "outputId": "6d701170-6ff2-4758-eca8-b98a9e804dc5"
      },
      "source": [
        "X = np.transpose(np.array([[1, 1],\n",
        "                           [1, 0],\n",
        "                           [0, 1],\n",
        "                           [0, 0]]))\n",
        "y = np.array([[1, 0, 0, 0],\n",
        "              [1, 1, 1, 0]])\n",
        "\n",
        "nn = SLP(X, y)\n",
        "nn.train()\n",
        "for i in range(4):\n",
        "  test_index = i\n",
        "  print('Test no: {}'.format(i + 1))\n",
        "  print('Input: ')\n",
        "  print(X[:, test_index : test_index + 1])\n",
        "  print('Actual output:')\n",
        "  print(y[:, test_index : test_index + 1])\n",
        "  print('Predicted output:')\n",
        "  print(nn.predict(X[:, test_index : test_index + 1]))\n",
        "  print('--------------------')"
      ],
      "execution_count": 81,
      "outputs": [
        {
          "output_type": "stream",
          "text": [
            "Trained in 18 steps!\n",
            "Test no: 1\n",
            "Input: \n",
            "[[1]\n",
            " [1]]\n",
            "Actual output:\n",
            "[[1]\n",
            " [1]]\n",
            "Predicted output:\n",
            "[[1.]\n",
            " [1.]]\n",
            "--------------------\n",
            "Test no: 2\n",
            "Input: \n",
            "[[1]\n",
            " [0]]\n",
            "Actual output:\n",
            "[[0]\n",
            " [1]]\n",
            "Predicted output:\n",
            "[[0.]\n",
            " [1.]]\n",
            "--------------------\n",
            "Test no: 3\n",
            "Input: \n",
            "[[0]\n",
            " [1]]\n",
            "Actual output:\n",
            "[[0]\n",
            " [1]]\n",
            "Predicted output:\n",
            "[[0.]\n",
            " [1.]]\n",
            "--------------------\n",
            "Test no: 4\n",
            "Input: \n",
            "[[0]\n",
            " [0]]\n",
            "Actual output:\n",
            "[[0]\n",
            " [0]]\n",
            "Predicted output:\n",
            "[[0.]\n",
            " [0.]]\n",
            "--------------------\n"
          ],
          "name": "stdout"
        }
      ]
    },
    {
      "cell_type": "markdown",
      "metadata": {
        "id": "CflXQJ0wI1UA",
        "colab_type": "text"
      },
      "source": [
        "It's a good idea to see the decision boundary for the 'AND' output now."
      ]
    },
    {
      "cell_type": "code",
      "metadata": {
        "id": "EaCxKHCnK55W",
        "colab_type": "code",
        "colab": {
          "base_uri": "https://localhost:8080/",
          "height": 269
        },
        "outputId": "c9513431-892e-453b-ab5c-97a57b30b2f9"
      },
      "source": [
        "plt.figure()\n",
        "plt.plot(X[0, 1:], X[1, 1 :], 'ro')\n",
        "plt.plot(X[0, 0:1], X[1, 0 : 1], 'bx')\n",
        "decision_x = np.linspace(0, 1.15, 10)\n",
        "decision_y = -nn.b[0, 0]/nn.W[0, 1] - np.dot(decision_x, nn.W[0, 0]/nn.W[0, 1])\n",
        "plt.plot(decision_x, decision_y, 'g')\n",
        "plt.xlim([-0.15, 1.15])\n",
        "plt.ylim([-0.15, 1.15])\n",
        "plt.show()"
      ],
      "execution_count": 82,
      "outputs": [
        {
          "output_type": "display_data",
          "data": {
            "image/png": "[encoded data removed]",
            "text/plain": [
              "<Figure size 432x288 with 1 Axes>"
            ]
          },
          "metadata": {
            "tags": []
          }
        }
      ]
    }
  ]
}