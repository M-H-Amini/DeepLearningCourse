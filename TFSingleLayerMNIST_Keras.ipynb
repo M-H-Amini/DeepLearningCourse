{
  "nbformat": 4,
  "nbformat_minor": 0,
  "metadata": {
    "colab": {
      "name": "TFSingleLayerMNIST-Keras.ipynb",
      "version": "0.3.2",
      "provenance": [],
      "collapsed_sections": [],
      "include_colab_link": true
    },
    "kernelspec": {
      "name": "python3",
      "display_name": "Python 3"
    }
  },
  "cells": [
    {
      "cell_type": "markdown",
      "metadata": {
        "id": "view-in-github",
        "colab_type": "text"
      },
      "source": [
        "<a href=\"https://colab.research.google.com/github/M-H-Amini/DeepLearningCourse/blob/master/TFSingleLayerMNIST_Keras.ipynb\" target=\"_parent\"><img src=\"https://colab.research.google.com/assets/colab-badge.svg\" alt=\"Open In Colab\"/></a>"
      ]
    },
    {
      "cell_type": "markdown",
      "metadata": {
        "id": "WqDNC4UxKOt1",
        "colab_type": "text"
      },
      "source": [
        "# In The Name of ALLAH\n",
        "**Written By Mohammad Hossein Amini**\n",
        "# Single-Layer Network for Fashion MNIST Digits (Keras)\n",
        "In this projects I'm gonna make a single-layer network for classifying Fashion MNIST dataset.\n",
        "\n",
        "\n",
        "First of all, let's import modules..."
      ]
    },
    {
      "cell_type": "code",
      "metadata": {
        "id": "1ESdCHI3KNqb",
        "colab_type": "code",
        "colab": {
          "base_uri": "https://localhost:8080/",
          "height": 34
        },
        "outputId": "7b808100-a8d6-4dff-ff84-bba8b354e4d1"
      },
      "source": [
        "try:\n",
        "  %tensorflow_version 2.x\n",
        "except Exception:\n",
        "  pass\n",
        "import tensorflow as tf\n",
        "print(tf.__version__)\n",
        "from tensorflow.keras.models import Sequential\n",
        "from tensorflow.keras.layers import Dense, Activation, Dropout, Flatten, InputLayer\n",
        "from tensorflow.keras.utils import to_categorical\n",
        "import numpy as np\n",
        "import matplotlib.pyplot as plt"
      ],
      "execution_count": 22,
      "outputs": [
        {
          "output_type": "stream",
          "text": [
            "2.0.0-rc0\n"
          ],
          "name": "stdout"
        }
      ]
    },
    {
      "cell_type": "markdown",
      "metadata": {
        "id": "Zb0c4EwdLeLz",
        "colab_type": "text"
      },
      "source": [
        "# Loading Dataset\n",
        "Let's load MNIST. This time I do it differently from the last project (From Scratch one)."
      ]
    },
    {
      "cell_type": "code",
      "metadata": {
        "id": "5XKbL-UMLvhD",
        "colab_type": "code",
        "colab": {
          "base_uri": "https://localhost:8080/",
          "height": 34
        },
        "outputId": "9ab8635f-ed29-4cd8-8369-7ec220f663b6"
      },
      "source": [
        "fashion_mnist = tf.keras.datasets.fashion_mnist\n",
        "(x_train, y_train), (x_test, y_test) = fashion_mnist.load_data()\n",
        "x_train, x_test = x_train / 255.0, x_test / 255.0\n",
        "y_train, y_test = to_categorical(y_train), to_categorical(y_test)\n",
        "\n",
        "label = {0: 'T-Shirt/Top',\n",
        "          1: 'Trouser',\n",
        "          2: 'Pullover',\n",
        "          3: 'Dress',\n",
        "          4: 'Coat',\n",
        "          5: 'Sandals',\n",
        "          6: 'Shirt',\n",
        "          7: 'Sneakers',\n",
        "          8: 'Bag',\n",
        "          9: 'Ankle Boot',\n",
        "         }\n",
        "print(x_train.shape, type(x_train))"
      ],
      "execution_count": 57,
      "outputs": [
        {
          "output_type": "stream",
          "text": [
            "(60000, 28, 28) <class 'numpy.ndarray'>\n"
          ],
          "name": "stdout"
        }
      ]
    },
    {
      "cell_type": "markdown",
      "metadata": {
        "id": "ZgnBXUFSQfOp",
        "colab_type": "text"
      },
      "source": [
        "It's a good idea to see one of the elements of MNIST..."
      ]
    },
    {
      "cell_type": "code",
      "metadata": {
        "id": "Kbz3ObygQpGR",
        "colab_type": "code",
        "colab": {
          "base_uri": "https://localhost:8080/",
          "height": 286
        },
        "outputId": "2e25bf30-1fb3-4762-e7d5-96130a89f51d"
      },
      "source": [
        "index = np.random.randint(50000)\n",
        "plt.imshow(x_train[index,:,:])\n",
        "plt.show()\n",
        "print('Label: {}'.format(label[np.argmax(y_train[index])]))"
      ],
      "execution_count": 64,
      "outputs": [
        {
          "output_type": "display_data",
          "data": {
            "image/png": "[encoded data removed]",
            "text/plain": [
              "<Figure size 432x288 with 1 Axes>"
            ]
          },
          "metadata": {
            "tags": []
          }
        },
        {
          "output_type": "stream",
          "text": [
            "Label: Dress\n"
          ],
          "name": "stdout"
        }
      ]
    },
    {
      "cell_type": "markdown",
      "metadata": {
        "id": "JJ6i8piMRNhx",
        "colab_type": "text"
      },
      "source": [
        "# Creating Model\n",
        "I'm gonna make the model using Keras api..."
      ]
    },
    {
      "cell_type": "code",
      "metadata": {
        "id": "SsSoUP_eRr9-",
        "colab_type": "code",
        "colab": {
          "base_uri": "https://localhost:8080/",
          "height": 238
        },
        "outputId": "43859a77-0035-439a-80fa-10d31829f0b2"
      },
      "source": [
        "linmodel = Sequential()\n",
        "\n",
        "linmodel.add(InputLayer(input_shape=(28, 28)))\n",
        "linmodel.add(Flatten())\n",
        "\n",
        "linmodel.add(Dense(units=10, activation='softmax'))\n",
        "\n",
        "linmodel.compile(loss='categorical_crossentropy', \n",
        "                 optimizer='adam', \n",
        "                 metrics=['accuracy'])\n",
        "print(linmodel.summary())"
      ],
      "execution_count": 65,
      "outputs": [
        {
          "output_type": "stream",
          "text": [
            "Model: \"sequential_6\"\n",
            "_________________________________________________________________\n",
            "Layer (type)                 Output Shape              Param #   \n",
            "=================================================================\n",
            "flatten_6 (Flatten)          (None, 784)               0         \n",
            "_________________________________________________________________\n",
            "dense_6 (Dense)              (None, 10)                7850      \n",
            "=================================================================\n",
            "Total params: 7,850\n",
            "Trainable params: 7,850\n",
            "Non-trainable params: 0\n",
            "_________________________________________________________________\n",
            "None\n"
          ],
          "name": "stdout"
        }
      ]
    },
    {
      "cell_type": "markdown",
      "metadata": {
        "id": "A96q9tMsSaTG",
        "colab_type": "text"
      },
      "source": [
        "Let's train the model..."
      ]
    },
    {
      "cell_type": "code",
      "metadata": {
        "id": "ERhMjDupSqlD",
        "colab_type": "code",
        "colab": {
          "base_uri": "https://localhost:8080/",
          "height": 391
        },
        "outputId": "01fcc4d9-958a-45c5-d81b-a5c6994f2fc2"
      },
      "source": [
        "epochs = 10 # one epoch takes about 3 seconds\n",
        "print(type(y_train), y_train.shape)\n",
        "linhistory = linmodel.fit(x_train, y_train, \n",
        "                          epochs=epochs, \n",
        "                          batch_size=32,\n",
        "                          verbose=2)"
      ],
      "execution_count": 66,
      "outputs": [
        {
          "output_type": "stream",
          "text": [
            "<class 'numpy.ndarray'> (60000, 10)\n",
            "Train on 60000 samples\n",
            "Epoch 1/10\n",
            "60000/60000 - 3s - loss: 0.5977 - accuracy: 0.7983\n",
            "Epoch 2/10\n",
            "60000/60000 - 3s - loss: 0.4623 - accuracy: 0.8428\n",
            "Epoch 3/10\n",
            "60000/60000 - 3s - loss: 0.4358 - accuracy: 0.8498\n",
            "Epoch 4/10\n",
            "60000/60000 - 3s - loss: 0.4241 - accuracy: 0.8537\n",
            "Epoch 5/10\n",
            "60000/60000 - 3s - loss: 0.4126 - accuracy: 0.8580\n",
            "Epoch 6/10\n",
            "60000/60000 - 3s - loss: 0.4062 - accuracy: 0.8597\n",
            "Epoch 7/10\n",
            "60000/60000 - 3s - loss: 0.4021 - accuracy: 0.8619\n",
            "Epoch 8/10\n",
            "60000/60000 - 3s - loss: 0.3983 - accuracy: 0.8617\n",
            "Epoch 9/10\n",
            "60000/60000 - 3s - loss: 0.3947 - accuracy: 0.8626\n",
            "Epoch 10/10\n",
            "60000/60000 - 3s - loss: 0.3921 - accuracy: 0.8636\n"
          ],
          "name": "stdout"
        }
      ]
    },
    {
      "cell_type": "markdown",
      "metadata": {
        "id": "m_mo9NIhUZTd",
        "colab_type": "text"
      },
      "source": [
        "It's interesting to see the accuracy and the loss through epochs..."
      ]
    },
    {
      "cell_type": "code",
      "metadata": {
        "id": "z-ezv482UjAN",
        "colab_type": "code",
        "colab": {
          "base_uri": "https://localhost:8080/",
          "height": 437
        },
        "outputId": "237ea022-974c-4312-b785-b8983529d61d"
      },
      "source": [
        "plt.figure(figsize=(5,3))\n",
        "plt.plot(linhistory.epoch,linhistory.history['loss'])\n",
        "plt.title('loss')\n",
        "\n",
        "plt.figure(figsize=(5,3))\n",
        "plt.plot(linhistory.epoch,linhistory.history['accuracy'])\n",
        "plt.title('accuracy');"
      ],
      "execution_count": 67,
      "outputs": [
        {
          "output_type": "display_data",
          "data": {
            "image/png": "[encoded data removed]",
            "text/plain": [
              "<Figure size 360x216 with 1 Axes>"
            ]
          },
          "metadata": {
            "tags": []
          }
        },
        {
          "output_type": "display_data",
          "data": {
            "image/png": "[encoded data removed]",
            "text/plain": [
              "<Figure size 360x216 with 1 Axes>"
            ]
          },
          "metadata": {
            "tags": []
          }
        }
      ]
    },
    {
      "cell_type": "markdown",
      "metadata": {
        "id": "_QySfzR3WiRb",
        "colab_type": "text"
      },
      "source": [
        "Let's test the model for some examples..."
      ]
    },
    {
      "cell_type": "code",
      "metadata": {
        "id": "s1gWNvXfWmkj",
        "colab_type": "code",
        "colab": {
          "base_uri": "https://localhost:8080/",
          "height": 1000
        },
        "outputId": "e463ef8b-8c1c-45e7-f86f-c96317526f38"
      },
      "source": [
        "test_no = 10\n",
        "indexes = [np.random.randint(0, 10000) for i in range(test_no)]\n",
        "for i in range(test_no):\n",
        "  print('Test {} out of {}...'.format(i+1, test_no))\n",
        "  plt.imshow(x_test[indexes[i], :, :])\n",
        "  plt.show()\n",
        "  print('Actual: ', label[np.argmax(y_test[indexes[i]])])\n",
        "  print('Predicted: ', label[np.argmax(linmodel.predict(x_test[indexes[i]: indexes[i]+1, :, :]))], '\\n')"
      ],
      "execution_count": 68,
      "outputs": [
        {
          "output_type": "stream",
          "text": [
            "Test 1 out of 10...\n"
          ],
          "name": "stdout"
        },
        {
          "output_type": "display_data",
          "data": {
            "image/png": "[encoded data removed]",
            "text/plain": [
              "<Figure size 432x288 with 1 Axes>"
            ]
          },
          "metadata": {
            "tags": []
          }
        },
        {
          "output_type": "stream",
          "text": [
            "Actual:  Ankle Boot\n",
            "Predicted:  Ankle Boot \n",
            "\n",
            "Test 2 out of 10...\n"
          ],
          "name": "stdout"
        },
        {
          "output_type": "display_data",
          "data": {
            "image/png": "[encoded data removed]",
            "text/plain": [
              "<Figure size 432x288 with 1 Axes>"
            ]
          },
          "metadata": {
            "tags": []
          }
        },
        {
          "output_type": "stream",
          "text": [
            "Actual:  T-Shirt/Top\n",
            "Predicted:  T-Shirt/Top \n",
            "\n",
            "Test 3 out of 10...\n"
          ],
          "name": "stdout"
        },
        {
          "output_type": "display_data",
          "data": {
            "image/png": "[encoded data removed]",
            "text/plain": [
              "<Figure size 432x288 with 1 Axes>"
            ]
          },
          "metadata": {
            "tags": []
          }
        },
        {
          "output_type": "stream",
          "text": [
            "Actual:  Sandals\n",
            "Predicted:  Sandals \n",
            "\n",
            "Test 4 out of 10...\n"
          ],
          "name": "stdout"
        },
        {
          "output_type": "display_data",
          "data": {
            "image/png": "[encoded data removed]",
            "text/plain": [
              "<Figure size 432x288 with 1 Axes>"
            ]
          },
          "metadata": {
            "tags": []
          }
        },
        {
          "output_type": "stream",
          "text": [
            "Actual:  Dress\n",
            "Predicted:  Dress \n",
            "\n",
            "Test 5 out of 10...\n"
          ],
          "name": "stdout"
        },
        {
          "output_type": "display_data",
          "data": {
            "image/png": "[encoded data removed]",
            "text/plain": [
              "<Figure size 432x288 with 1 Axes>"
            ]
          },
          "metadata": {
            "tags": []
          }
        },
        {
          "output_type": "stream",
          "text": [
            "Actual:  Sneakers\n",
            "Predicted:  Sandals \n",
            "\n",
            "Test 6 out of 10...\n"
          ],
          "name": "stdout"
        },
        {
          "output_type": "display_data",
          "data": {
            "image/png": "[encoded data removed]",
            "text/plain": [
              "<Figure size 432x288 with 1 Axes>"
            ]
          },
          "metadata": {
            "tags": []
          }
        },
        {
          "output_type": "stream",
          "text": [
            "Actual:  Sneakers\n",
            "Predicted:  Sandals \n",
            "\n",
            "Test 7 out of 10...\n"
          ],
          "name": "stdout"
        },
        {
          "output_type": "display_data",
          "data": {
            "image/png": "[encoded data removed]",
            "text/plain": [
              "<Figure size 432x288 with 1 Axes>"
            ]
          },
          "metadata": {
            "tags": []
          }
        },
        {
          "output_type": "stream",
          "text": [
            "Actual:  Coat\n",
            "Predicted:  Coat \n",
            "\n",
            "Test 8 out of 10...\n"
          ],
          "name": "stdout"
        },
        {
          "output_type": "display_data",
          "data": {
            "image/png": "[encoded data removed]",
            "text/plain": [
              "<Figure size 432x288 with 1 Axes>"
            ]
          },
          "metadata": {
            "tags": []
          }
        },
        {
          "output_type": "stream",
          "text": [
            "Actual:  Dress\n",
            "Predicted:  Dress \n",
            "\n",
            "Test 9 out of 10...\n"
          ],
          "name": "stdout"
        },
        {
          "output_type": "display_data",
          "data": {
            "image/png": "[encoded data removed]",
            "text/plain": [
              "<Figure size 432x288 with 1 Axes>"
            ]
          },
          "metadata": {
            "tags": []
          }
        },
        {
          "output_type": "stream",
          "text": [
            "Actual:  Sandals\n",
            "Predicted:  Sandals \n",
            "\n",
            "Test 10 out of 10...\n"
          ],
          "name": "stdout"
        },
        {
          "output_type": "display_data",
          "data": {
            "image/png": "[encoded data removed]",
            "text/plain": [
              "<Figure size 432x288 with 1 Axes>"
            ]
          },
          "metadata": {
            "tags": []
          }
        },
        {
          "output_type": "stream",
          "text": [
            "Actual:  Sneakers\n",
            "Predicted:  Sneakers \n",
            "\n"
          ],
          "name": "stdout"
        }
      ]
    },
    {
      "cell_type": "markdown",
      "metadata": {
        "id": "FzpbIG9FU8RA",
        "colab_type": "text"
      },
      "source": [
        "Finally, time for evaluating the trained model..."
      ]
    },
    {
      "cell_type": "code",
      "metadata": {
        "id": "p1i4EOfOVDZZ",
        "colab_type": "code",
        "colab": {
          "base_uri": "https://localhost:8080/",
          "height": 51
        },
        "outputId": "6c82f2a7-fd80-4963-8d9f-6bc495ebc0fb"
      },
      "source": [
        "linscores = linmodel.evaluate(x_test, y_test, verbose=2)\n",
        "print(\"%s: %.2f%%\" % (linmodel.metrics_names[1], linscores[1]*100))"
      ],
      "execution_count": 69,
      "outputs": [
        {
          "output_type": "stream",
          "text": [
            "10000/1 - 0s - loss: 0.3976 - accuracy: 0.8397\n",
            "accuracy: 83.97%\n"
          ],
          "name": "stdout"
        }
      ]
    }
  ]
}