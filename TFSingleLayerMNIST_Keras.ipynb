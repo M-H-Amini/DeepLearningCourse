{
  "nbformat": 4,
  "nbformat_minor": 0,
  "metadata": {
    "colab": {
      "name": "TFSingleLayerMNIST-Keras.ipynb",
      "version": "0.3.2",
      "provenance": [],
      "collapsed_sections": [],
      "include_colab_link": true
    },
    "kernelspec": {
      "name": "python3",
      "display_name": "Python 3"
    }
  },
  "cells": [
    {
      "cell_type": "markdown",
      "metadata": {
        "id": "view-in-github",
        "colab_type": "text"
      },
      "source": [
        "<a href=\"https://colab.research.google.com/github/M-H-Amini/DeepLearningCourse/blob/master/TFSingleLayerMNIST_Keras.ipynb\" target=\"_parent\"><img src=\"https://colab.research.google.com/assets/colab-badge.svg\" alt=\"Open In Colab\"/></a>"
      ]
    },
    {
      "cell_type": "markdown",
      "metadata": {
        "id": "WqDNC4UxKOt1",
        "colab_type": "text"
      },
      "source": [
        "# In The Name of ALLAH\n",
        "**Written By Mohammad Hossein Amini**\n",
        "# Single-Layer Network for MNIST Digits (Keras)\n",
        "In this projects I'm gonna make a single-layer network for classifying MNIST dataset.\n",
        "\n",
        "\n",
        "First of all, let's import modules..."
      ]
    },
    {
      "cell_type": "code",
      "metadata": {
        "id": "1ESdCHI3KNqb",
        "colab_type": "code",
        "colab": {
          "base_uri": "https://localhost:8080/",
          "height": 34
        },
        "outputId": "7b808100-a8d6-4dff-ff84-bba8b354e4d1"
      },
      "source": [
        "try:\n",
        "  %tensorflow_version 2.x\n",
        "except Exception:\n",
        "  pass\n",
        "import tensorflow as tf\n",
        "print(tf.__version__)\n",
        "from tensorflow.keras.models import Sequential\n",
        "from tensorflow.keras.layers import Dense, Activation, Dropout, Flatten, InputLayer\n",
        "from tensorflow.keras.utils import to_categorical\n",
        "import numpy as np\n",
        "import matplotlib.pyplot as plt"
      ],
      "execution_count": 22,
      "outputs": [
        {
          "output_type": "stream",
          "text": [
            "2.0.0-rc0\n"
          ],
          "name": "stdout"
        }
      ]
    },
    {
      "cell_type": "markdown",
      "metadata": {
        "id": "Zb0c4EwdLeLz",
        "colab_type": "text"
      },
      "source": [
        "# Loading Dataset\n",
        "Let's load MNIST. This time I do it differently from the last project (From Scratch one)."
      ]
    },
    {
      "cell_type": "code",
      "metadata": {
        "id": "5XKbL-UMLvhD",
        "colab_type": "code",
        "colab": {
          "base_uri": "https://localhost:8080/",
          "height": 34
        },
        "outputId": "a78d424a-9888-4143-ba15-6ed3bcb0122c"
      },
      "source": [
        "mnist = tf.keras.datasets.mnist\n",
        "(x_train, y_train), (x_test, y_test) = mnist.load_data()\n",
        "x_train, x_test = x_train / 255.0, x_test / 255.0\n",
        "y_train, y_test = to_categorical(y_train), to_categorical(y_test)\n",
        "print(x_train.shape, type(x_train))"
      ],
      "execution_count": 41,
      "outputs": [
        {
          "output_type": "stream",
          "text": [
            "(60000, 28, 28) <class 'numpy.ndarray'>\n"
          ],
          "name": "stdout"
        }
      ]
    },
    {
      "cell_type": "markdown",
      "metadata": {
        "id": "ZgnBXUFSQfOp",
        "colab_type": "text"
      },
      "source": [
        "It's a good idea to see one of the elements of MNIST..."
      ]
    },
    {
      "cell_type": "code",
      "metadata": {
        "id": "Kbz3ObygQpGR",
        "colab_type": "code",
        "colab": {
          "base_uri": "https://localhost:8080/",
          "height": 286
        },
        "outputId": "d42e1776-876f-4755-fd15-f051743344a1"
      },
      "source": [
        "index = np.random.randint(50000)\n",
        "plt.imshow(x_train[index,:,:])\n",
        "plt.show()\n",
        "print('Label: {}'.format(np.argmax(y_train[index]), 1))"
      ],
      "execution_count": 27,
      "outputs": [
        {
          "output_type": "display_data",
          "data": {
            "image/png": "[encoded data removed]",
            "text/plain": [
              "<Figure size 432x288 with 1 Axes>"
            ]
          },
          "metadata": {
            "tags": []
          }
        },
        {
          "output_type": "stream",
          "text": [
            "Label: 8\n"
          ],
          "name": "stdout"
        }
      ]
    },
    {
      "cell_type": "markdown",
      "metadata": {
        "id": "JJ6i8piMRNhx",
        "colab_type": "text"
      },
      "source": [
        "# Creating Model\n",
        "I'm gonna make the model using Keras api..."
      ]
    },
    {
      "cell_type": "code",
      "metadata": {
        "id": "SsSoUP_eRr9-",
        "colab_type": "code",
        "colab": {
          "base_uri": "https://localhost:8080/",
          "height": 238
        },
        "outputId": "69242686-483b-424e-8ea0-d9c37bfca316"
      },
      "source": [
        "linmodel = Sequential()\n",
        "\n",
        "linmodel.add(InputLayer(input_shape=(28, 28)))\n",
        "linmodel.add(Flatten())\n",
        "\n",
        "linmodel.add(Dense(units=10, activation='softmax'))\n",
        "\n",
        "linmodel.compile(loss='categorical_crossentropy', \n",
        "                 optimizer='adam', \n",
        "                 metrics=['accuracy'])\n",
        "print(linmodel.summary())"
      ],
      "execution_count": 33,
      "outputs": [
        {
          "output_type": "stream",
          "text": [
            "Model: \"sequential_5\"\n",
            "_________________________________________________________________\n",
            "Layer (type)                 Output Shape              Param #   \n",
            "=================================================================\n",
            "flatten_5 (Flatten)          (None, 784)               0         \n",
            "_________________________________________________________________\n",
            "dense_5 (Dense)              (None, 10)                7850      \n",
            "=================================================================\n",
            "Total params: 7,850\n",
            "Trainable params: 7,850\n",
            "Non-trainable params: 0\n",
            "_________________________________________________________________\n",
            "None\n"
          ],
          "name": "stdout"
        }
      ]
    },
    {
      "cell_type": "markdown",
      "metadata": {
        "id": "A96q9tMsSaTG",
        "colab_type": "text"
      },
      "source": [
        "Let's train the model..."
      ]
    },
    {
      "cell_type": "code",
      "metadata": {
        "id": "ERhMjDupSqlD",
        "colab_type": "code",
        "colab": {
          "base_uri": "https://localhost:8080/",
          "height": 391
        },
        "outputId": "069b36ca-1d48-49a5-9f4e-76507fb206aa"
      },
      "source": [
        "epochs = 10 # one epoch takes about 3 seconds\n",
        "print(type(y_train), y_train.shape)\n",
        "linhistory = linmodel.fit(x_train, y_train, \n",
        "                          epochs=epochs, \n",
        "                          batch_size=32,\n",
        "                          verbose=2)"
      ],
      "execution_count": 37,
      "outputs": [
        {
          "output_type": "stream",
          "text": [
            "<class 'numpy.ndarray'> (60000, 10)\n",
            "Train on 60000 samples\n",
            "Epoch 1/10\n",
            "60000/60000 - 3s - loss: 0.2619 - accuracy: 0.9269\n",
            "Epoch 2/10\n",
            "60000/60000 - 3s - loss: 0.2584 - accuracy: 0.9281\n",
            "Epoch 3/10\n",
            "60000/60000 - 3s - loss: 0.2554 - accuracy: 0.9291\n",
            "Epoch 4/10\n",
            "60000/60000 - 3s - loss: 0.2531 - accuracy: 0.9297\n",
            "Epoch 5/10\n",
            "60000/60000 - 3s - loss: 0.2509 - accuracy: 0.9305\n",
            "Epoch 6/10\n",
            "60000/60000 - 3s - loss: 0.2495 - accuracy: 0.9309\n",
            "Epoch 7/10\n",
            "60000/60000 - 3s - loss: 0.2476 - accuracy: 0.9313\n",
            "Epoch 8/10\n",
            "60000/60000 - 3s - loss: 0.2466 - accuracy: 0.9319\n",
            "Epoch 9/10\n",
            "60000/60000 - 3s - loss: 0.2454 - accuracy: 0.9325\n",
            "Epoch 10/10\n",
            "60000/60000 - 3s - loss: 0.2441 - accuracy: 0.9328\n"
          ],
          "name": "stdout"
        }
      ]
    },
    {
      "cell_type": "markdown",
      "metadata": {
        "id": "m_mo9NIhUZTd",
        "colab_type": "text"
      },
      "source": [
        "It's interesting to see the accuracy and the loss through epochs..."
      ]
    },
    {
      "cell_type": "code",
      "metadata": {
        "id": "z-ezv482UjAN",
        "colab_type": "code",
        "colab": {
          "base_uri": "https://localhost:8080/",
          "height": 437
        },
        "outputId": "fe5aa4a4-df2c-460f-98fd-60c3d910efab"
      },
      "source": [
        "plt.figure(figsize=(5,3))\n",
        "plt.plot(linhistory.epoch,linhistory.history['loss'])\n",
        "plt.title('loss')\n",
        "\n",
        "plt.figure(figsize=(5,3))\n",
        "plt.plot(linhistory.epoch,linhistory.history['accuracy'])\n",
        "plt.title('accuracy');"
      ],
      "execution_count": 38,
      "outputs": [
        {
          "output_type": "display_data",
          "data": {
            "image/png": "[encoded data removed]",
            "text/plain": [
              "<Figure size 360x216 with 1 Axes>"
            ]
          },
          "metadata": {
            "tags": []
          }
        },
        {
          "output_type": "display_data",
          "data": {
            "image/png": "[encoded data removed]",
            "text/plain": [
              "<Figure size 360x216 with 1 Axes>"
            ]
          },
          "metadata": {
            "tags": []
          }
        }
      ]
    },
    {
      "cell_type": "markdown",
      "metadata": {
        "id": "FzpbIG9FU8RA",
        "colab_type": "text"
      },
      "source": [
        "Finally, time for evaluating the trained model..."
      ]
    },
    {
      "cell_type": "code",
      "metadata": {
        "id": "p1i4EOfOVDZZ",
        "colab_type": "code",
        "colab": {
          "base_uri": "https://localhost:8080/",
          "height": 68
        },
        "outputId": "fc6f9446-ee68-49f5-9698-4a25a04b5bb5"
      },
      "source": [
        "linscores = linmodel.evaluate(x_test, y_test, verbose=2)\n",
        "print(\"%s: %.2f%%\" % (linmodel.metrics_names[1], linscores[1]*100))"
      ],
      "execution_count": 43,
      "outputs": [
        {
          "output_type": "stream",
          "text": [
            "10000/1 - 0s - loss: 0.1857 - accuracy: 0.9283\n",
            "[0.26550534121096137, 0.9283]\n",
            "accuracy: 92.83%\n"
          ],
          "name": "stdout"
        }
      ]
    }
  ]
}